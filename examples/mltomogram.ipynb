{
  "nbformat": 4,
  "nbformat_minor": 0,
  "metadata": {
    "colab": {
      "provenance": []
    },
    "kernelspec": {
      "name": "python3",
      "display_name": "Python 3"
    },
    "language_info": {
      "name": "python"
    },
    "accelerator": "GPU",
    "gpuClass": "standard"
  },
  "cells": [
    {
      "cell_type": "code",
      "execution_count": null,
      "metadata": {
        "id": "p1fitCE7-whr"
      },
      "outputs": [],
      "source": [
        "import matplotlib.pyplot as plt\n",
        "import numpy as np\n",
        "from PIL import Image\n",
        "import tensorflow as tf\n",
        "\n",
        "from tensorflow import keras\n",
        "from tensorflow.keras import layers, Model\n",
        "from tensorflow.keras.models import Sequential"
      ]
    },
    {
      "cell_type": "code",
      "source": [
        "from google.colab import drive\n",
        "drive.mount('/content/drive')"
      ],
      "metadata": {
        "colab": {
          "base_uri": "https://localhost:8080/"
        },
        "id": "sQFeUpKs-0Vx",
        "outputId": "b9068485-c04e-4d3b-9d9e-f781f0208bab"
      },
      "execution_count": null,
      "outputs": [
        {
          "output_type": "stream",
          "name": "stdout",
          "text": [
            "Mounted at /content/drive\n"
          ]
        }
      ]
    },
    {
      "cell_type": "code",
      "source": [
        "import os\n",
        "\n",
        "t_path =\"/content/drive/MyDrive/labeled_tomogram_data/tomograms\"\n",
        "label_path =\"/content/drive/MyDrive/labeled_tomogram_data/labels\"\n",
        "\n",
        "tomo_dir = np.sort(os.listdir(t_path))\n",
        "label_dir = np.sort(os.listdir(label_path))\n",
        "\n",
        "#check if ordered\n",
        "print(tomo_dir[0:5])\n",
        "print(label_dir[0:5])\n",
        "\n",
        "#Length of data\n",
        "print(len(tomo_dir))\n",
        "print(len(label_dir))"
      ],
      "metadata": {
        "colab": {
          "base_uri": "https://localhost:8080/"
        },
        "id": "yh2o73e0_Box",
        "outputId": "3aef0386-86e3-41e0-f621-1d238f5922da"
      },
      "execution_count": null,
      "outputs": [
        {
          "output_type": "stream",
          "name": "stdout",
          "text": [
            "['PginABK10_001.h5.png' 'PginABK10_002.h5.png' 'PginABK10_003.h5.png'\n",
            " 'PginABK10_004.h5.png' 'PginABK10_005.h5.png']\n",
            "['PginABK10_001.txt' 'PginABK10_002.txt' 'PginABK10_003.txt'\n",
            " 'PginABK10_004.txt' 'PginABK10_005.txt']\n",
            "2233\n",
            "2233\n"
          ]
        }
      ]
    },
    {
      "cell_type": "code",
      "source": [
        "#images to numpy array. This takes a second.\n",
        "images = np.zeros((2233,1024,1024,1),dtype=\"int8\")\n",
        "for i,image in enumerate(tomo_dir):\n",
        "  pic = Image.open(os.path.join(t_path,image))\n",
        "  pix = np.array(pic)\n",
        "  pix = np.resize(pix,(1024,1024,1))\n",
        "  images[i] = pix"
      ],
      "metadata": {
        "id": "8EnVztoyRHHy"
      },
      "execution_count": null,
      "outputs": []
    },
    {
      "cell_type": "code",
      "source": [
        "#create list of 0s and 1s that corrispond to the \"Good\" and \"Bad\" labels. This is way too slow, can someone speed this up?\n",
        "y=np.zeros(len(label_dir),dtype = \"int8\")\n",
        "for i,f_name in enumerate(label_dir):\n",
        "  with open(os.path.join(label_path,f_name), \"r\") as f:\n",
        "    if f.readline()[0] == \"G\":\n",
        "      y[i]=int(1)\n",
        "  f.close()"
      ],
      "metadata": {
        "id": "ttmAEyWtGRKI"
      },
      "execution_count": null,
      "outputs": []
    },
    {
      "cell_type": "code",
      "source": [
        "from sklearn.model_selection import train_test_split\n",
        "\n",
        "X_train, X_test, y_train, y_test = train_test_split(images, y, test_size=0.33, random_state=42)\n",
        "del(images)\n",
        "del(y)"
      ],
      "metadata": {
        "id": "SZ22F2XxESwT"
      },
      "execution_count": null,
      "outputs": []
    },
    {
      "cell_type": "code",
      "source": [
        "img_input = layers.Input(shape=(1024, 1024,1))\n",
        "\n",
        "# First convolution extracts 64 filters that are 3x3\n",
        "# Convolution is followed by max-pooling layer with a 2x2 window\n",
        "x = layers.Conv2D(64, 1, activation='relu')(img_input)\n",
        "x = layers.MaxPooling2D(4)(x)\n",
        "\n",
        "# Second convolution extracts 32 filters that are 3x3\n",
        "# Convolution is followed by max-pooling layer with a 2x2 window\n",
        "x = layers.Conv2D(32, 1, activation='relu')(x)\n",
        "x = layers.MaxPooling2D(4)(x)\n",
        "\n",
        "# Third convolution extracts 16 filters that are 3x3\n",
        "# Convolution is followed by max-pooling layer with a 2x2 window\n",
        "x = layers.Conv2D(16, 1, activation='relu')(x)\n",
        "x = layers.MaxPooling2D(4)(x)\n",
        "\n",
        "x = layers.Conv2D(8, 1, activation='relu')(x)\n",
        "x = layers.MaxPooling2D(4)(x)\n",
        "\n",
        "x = layers.Conv2D(4, 1, activation='relu')(x)\n",
        "x = layers.MaxPooling2D(4)(x)"
      ],
      "metadata": {
        "id": "w0TEQFBRVCj1"
      },
      "execution_count": null,
      "outputs": []
    },
    {
      "cell_type": "code",
      "source": [
        "# Flatten feature map to a 1-dim tensor so we can add fully connected layers\n",
        "x = layers.Flatten()(x)\n",
        "\n",
        "x = layers.Dense(4, activation='relu')(x)\n",
        "\n",
        "# Create output layer with a single node and sigmoid activation\n",
        "output = layers.Dense(1, activation='sigmoid')(x)\n",
        "\n",
        "# Create model:\n",
        "# input = input feature map\n",
        "# output = input feature map + stacked convolution/maxpooling layers + fully \n",
        "# connected layer + sigmoid output layer\n",
        "model = Model(img_input, output)"
      ],
      "metadata": {
        "id": "ysthnYkAVTpy"
      },
      "execution_count": null,
      "outputs": []
    },
    {
      "cell_type": "code",
      "source": [
        "model.summary()"
      ],
      "metadata": {
        "colab": {
          "base_uri": "https://localhost:8080/"
        },
        "id": "XJoiIKcmeMLY",
        "outputId": "1e168760-914b-4d25-dbee-6aa2631fd0a3"
      },
      "execution_count": null,
      "outputs": [
        {
          "output_type": "stream",
          "name": "stdout",
          "text": [
            "Model: \"model\"\n",
            "_________________________________________________________________\n",
            " Layer (type)                Output Shape              Param #   \n",
            "=================================================================\n",
            " input_1 (InputLayer)        [(None, 1024, 1024, 1)]   0         \n",
            "                                                                 \n",
            " conv2d (Conv2D)             (None, 1024, 1024, 64)    128       \n",
            "                                                                 \n",
            " max_pooling2d (MaxPooling2D  (None, 256, 256, 64)     0         \n",
            " )                                                               \n",
            "                                                                 \n",
            " conv2d_1 (Conv2D)           (None, 256, 256, 32)      2080      \n",
            "                                                                 \n",
            " max_pooling2d_1 (MaxPooling  (None, 64, 64, 32)       0         \n",
            " 2D)                                                             \n",
            "                                                                 \n",
            " conv2d_2 (Conv2D)           (None, 64, 64, 16)        528       \n",
            "                                                                 \n",
            " max_pooling2d_2 (MaxPooling  (None, 16, 16, 16)       0         \n",
            " 2D)                                                             \n",
            "                                                                 \n",
            " conv2d_3 (Conv2D)           (None, 16, 16, 8)         136       \n",
            "                                                                 \n",
            " max_pooling2d_3 (MaxPooling  (None, 4, 4, 8)          0         \n",
            " 2D)                                                             \n",
            "                                                                 \n",
            " conv2d_4 (Conv2D)           (None, 4, 4, 4)           36        \n",
            "                                                                 \n",
            " max_pooling2d_4 (MaxPooling  (None, 1, 1, 4)          0         \n",
            " 2D)                                                             \n",
            "                                                                 \n",
            " flatten (Flatten)           (None, 4)                 0         \n",
            "                                                                 \n",
            " dense (Dense)               (None, 4)                 20        \n",
            "                                                                 \n",
            " dense_1 (Dense)             (None, 1)                 5         \n",
            "                                                                 \n",
            "=================================================================\n",
            "Total params: 2,933\n",
            "Trainable params: 2,933\n",
            "Non-trainable params: 0\n",
            "_________________________________________________________________\n"
          ]
        }
      ]
    },
    {
      "cell_type": "code",
      "source": [
        "from tensorflow.keras.optimizers import RMSprop\n",
        "\n",
        "model.compile(loss='binary_crossentropy',\n",
        "              optimizer=RMSprop(learning_rate=0.001),\n",
        "              metrics=['acc'])"
      ],
      "metadata": {
        "id": "A4HbmwPhegk3"
      },
      "execution_count": null,
      "outputs": []
    },
    {
      "cell_type": "code",
      "source": [
        "history = model.fit(X_train,y_train,batch_size=7,epochs=10,validation_data=(X_test,y_test))"
      ],
      "metadata": {
        "id": "9TEBOa72esms"
      },
      "execution_count": null,
      "outputs": []
    },
    {
      "cell_type": "code",
      "source": [
        "# Retrieve a list of accuracy results on training and validation data\n",
        "# sets for each training epoch\n",
        "acc = history.history['acc']\n",
        "val_acc = history.history['val_acc']\n",
        "\n",
        "# Retrieve a list of list results on training and validation data\n",
        "# sets for each training epoch\n",
        "loss = history.history['loss']\n",
        "val_loss = history.history['val_loss']\n",
        "\n",
        "# Get number of epochs\n",
        "epochs = range(len(acc))\n",
        "\n",
        "# Plot training and validation accuracy per epoch\n",
        "plt.plot(epochs, acc)\n",
        "plt.plot(epochs, val_acc)\n",
        "plt.title('Training and validation accuracy')\n",
        "\n",
        "plt.figure()\n",
        "\n",
        "# Plot training and validation loss per epoch\n",
        "plt.plot(epochs, loss)\n",
        "plt.plot(epochs, val_loss)\n",
        "plt.title('Training and validation loss')"
      ],
      "metadata": {
        "id": "yWa5xD7tfF53"
      },
      "execution_count": null,
      "outputs": []
    },
    {
      "cell_type": "code",
      "source": [],
      "metadata": {
        "id": "RWYwT3fto4Xb"
      },
      "execution_count": null,
      "outputs": []
    }
  ]
}